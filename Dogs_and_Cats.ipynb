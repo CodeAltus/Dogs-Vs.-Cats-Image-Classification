{
  "nbformat": 4,
  "nbformat_minor": 0,
  "metadata": {
    "colab": {
      "name": "Dogs and Cats.ipynb",
      "provenance": [],
      "collapsed_sections": []
    },
    "kernelspec": {
      "name": "python3",
      "display_name": "Python 3"
    },
    "language_info": {
      "name": "python"
    },
    "accelerator": "GPU"
  },
  "cells": [
    {
      "cell_type": "markdown",
      "metadata": {
        "id": "LBJegu4dZXA3"
      },
      "source": [
        "# Dogs vs. Cats\n",
        "In this project, I use a convolutional neural network to distinguish dogs from cats. The dataset used in this project is the training dataset from the \"Dogs vs. Cats\" Kaggle competition:\n",
        "https://www.kaggle.com/c/dogs-vs-cats"
      ]
    },
    {
      "cell_type": "code",
      "metadata": {
        "id": "m4qqPKgwbMVj"
      },
      "source": [
        "import os\n",
        "import cv2\n",
        "import numpy as np\n",
        "import torch\n",
        "from torch.utils.data import DataLoader, Dataset\n",
        "import torch.nn as nn\n",
        "import torch.nn.functional as activation\n",
        "import matplotlib.pyplot as plt"
      ],
      "execution_count": 1,
      "outputs": []
    },
    {
      "cell_type": "code",
      "metadata": {
        "colab": {
          "base_uri": "https://localhost:8080/"
        },
        "id": "j_DHa-HjOFSy",
        "outputId": "c8291b00-781c-436b-bdad-089821fcae0c"
      },
      "source": [
        "# Loading dataset\n",
        "# This is only needed in google colaboratory to download training\n",
        "# data from google drive to the system\n",
        "!unzip \"drive/MyDrive/Computer Vision/Dogs vs. Cats/train.zip\"\n",
        "from google.colab import output\n",
        "output.clear()\n",
        "print(\"Done!\")"
      ],
      "execution_count": 2,
      "outputs": [
        {
          "output_type": "stream",
          "text": [
            "Done!\n"
          ],
          "name": "stdout"
        }
      ]
    },
    {
      "cell_type": "code",
      "metadata": {
        "colab": {
          "base_uri": "https://localhost:8080/"
        },
        "id": "gBweDPG8tvwm",
        "outputId": "b48f65cd-f85d-490f-fd6a-02ae3a421b92"
      },
      "source": [
        "# Setting up device\n",
        "# If there is a GPU, training will be faster\n",
        "device = None\n",
        "\n",
        "if torch.cuda.is_available():\n",
        "    device = torch.device(\"cuda:0\")\n",
        "\n",
        "else:\n",
        "    device = torch.device(\"cpu\")\n",
        "\n",
        "print(device)"
      ],
      "execution_count": 3,
      "outputs": [
        {
          "output_type": "stream",
          "text": [
            "cuda:0\n"
          ],
          "name": "stdout"
        }
      ]
    },
    {
      "cell_type": "code",
      "metadata": {
        "id": "9EecXQM1er6h"
      },
      "source": [
        "# Dataset class to manage images\n",
        "class DogsVsCatsDataset(Dataset):\n",
        "\n",
        "    CAT = \"cat\"\n",
        "    DOG = \"dog\"\n",
        "    Labels = {CAT: 0, DOG: 1}\n",
        "\n",
        "    def __init__(self):\n",
        "\n",
        "        self.x = []\n",
        "        self.y = []\n",
        "        self.length = 0\n",
        "\n",
        "        for image_name in os.listdir(\"train\"):\n",
        "\n",
        "            path = os.path.join(\"train\", image_name)\n",
        "            image = cv2.imread(path, cv2.IMREAD_GRAYSCALE)\n",
        "            image = cv2.resize(image, (50, 50))\n",
        "            image = image / 255.0\n",
        "            self.x.append(image.reshape((1, 50, 50)))\n",
        "\n",
        "            if self.CAT in image_name:\n",
        "                self.y.append(self.Labels[self.CAT])\n",
        "\n",
        "            elif self.DOG in image_name:\n",
        "                self.y.append(self.Labels[self.DOG])\n",
        "\n",
        "            self.length += 1\n",
        "        \n",
        "        self.x = torch.from_numpy(np.stack(self.x)).double()\n",
        "        self.y = torch.from_numpy(np.array(self.y)).double()\n",
        "        self.y = self.y.view(-1, 1).double()\n",
        "    \n",
        "    def __getitem__(self, index):\n",
        "        return self.x[index], self.y[index]\n",
        "\n",
        "    def __len__(self):\n",
        "        return self.length"
      ],
      "execution_count": 4,
      "outputs": []
    },
    {
      "cell_type": "code",
      "metadata": {
        "id": "Iw7-c5Yinz1M"
      },
      "source": [
        "# Convolutional neural network class\n",
        "class ConvNet(nn.Module):\n",
        "\n",
        "    def __init__(self):\n",
        "        super(ConvNet, self).__init__()\n",
        "        self.conv1 = nn.Conv2d(1, 32, kernel_size=(3, 3))\n",
        "        self.pool = nn.MaxPool2d(2, 2)\n",
        "        self.conv2 = nn.Conv2d(32, 64, kernel_size=(3, 3))\n",
        "        self.pool2 = nn.MaxPool2d(2, 2)\n",
        "        self.conv3 = nn.Conv2d(64, 128, kernel_size=(3, 3))\n",
        "        self.pool3 = nn.MaxPool2d(2, 2)\n",
        "        self.l1 = nn.Linear(2048, 16)\n",
        "        self.l2 = nn.Linear(16, 8)\n",
        "        self.l3 = nn.Linear(8, 1)\n",
        "\n",
        "    def forward(self, x):\n",
        "        x = activation.relu(self.conv1(x))\n",
        "        x = self.pool(x)\n",
        "        x = activation.relu(self.conv2(x))\n",
        "        x = self.pool2(x)\n",
        "        x = activation.relu(self.conv3(x))\n",
        "        x = self.pool3(x)\n",
        "        x = x.view(1000, -1)\n",
        "        x = activation.relu(self.l1(x))\n",
        "        x = activation.relu(self.l2(x))\n",
        "        # Sigmoid function returns a probability \n",
        "        # of the image being an image of a dog\n",
        "        y = torch.sigmoid(self.l3(x))\n",
        "        return y"
      ],
      "execution_count": 5,
      "outputs": []
    },
    {
      "cell_type": "code",
      "metadata": {
        "id": "qWDI6O3sj-5g"
      },
      "source": [
        "# Hyperparameters for training model\n",
        "batch_size = 1000\n",
        "learning_rate = 0.003\n",
        "number_of_epochs = 50"
      ],
      "execution_count": 6,
      "outputs": []
    },
    {
      "cell_type": "code",
      "metadata": {
        "id": "wLDcK9yfY_Uc",
        "colab": {
          "base_uri": "https://localhost:8080/",
          "height": 284
        },
        "outputId": "c719aa64-9c02-450d-b8ba-4f7c8039824e"
      },
      "source": [
        "# The dataset is split into training and validation datasets\n",
        "dataset = DogsVsCatsDataset()\n",
        "train_dataset, validation_dataset = torch.utils.data.random_split(dataset, [20000, 5000])\n",
        "train_loader = DataLoader(train_dataset, batch_size=batch_size, shuffle=True)\n",
        "validation_loader = DataLoader(validation_dataset, batch_size=batch_size)\n",
        "image, label = dataset[0]\n",
        "plt.imshow(image.numpy().reshape((50, 50)))\n",
        "plt.show()\n",
        "print(label.item())"
      ],
      "execution_count": 7,
      "outputs": [
        {
          "output_type": "display_data",
          "data": {
            "image/png": "[encoded data removed]",
            "text/plain": [
              "<Figure size 432x288 with 1 Axes>"
            ]
          },
          "metadata": {
            "tags": [],
            "needs_background": "light"
          }
        },
        {
          "output_type": "stream",
          "text": [
            "1.0\n"
          ],
          "name": "stdout"
        }
      ]
    },
    {
      "cell_type": "code",
      "metadata": {
        "id": "05bPMDQPaRSM",
        "colab": {
          "base_uri": "https://localhost:8080/"
        },
        "outputId": "da95debd-475c-4595-8517-da6fc8b9dc10"
      },
      "source": [
        "model = ConvNet().double().to(device)\n",
        "# Binary cross entropy loss is used as there is only one probability\n",
        "# value being outputed from the model\n",
        "criterion = nn.BCELoss()\n",
        "# Adam optimizer is used\n",
        "optimizer = torch.optim.Adam(model.parameters(), lr=learning_rate)\n",
        "print(model)"
      ],
      "execution_count": 8,
      "outputs": [
        {
          "output_type": "stream",
          "text": [
            "ConvNet(\n",
            "  (conv1): Conv2d(1, 32, kernel_size=(3, 3), stride=(1, 1))\n",
            "  (pool): MaxPool2d(kernel_size=2, stride=2, padding=0, dilation=1, ceil_mode=False)\n",
            "  (conv2): Conv2d(32, 64, kernel_size=(3, 3), stride=(1, 1))\n",
            "  (pool2): MaxPool2d(kernel_size=2, stride=2, padding=0, dilation=1, ceil_mode=False)\n",
            "  (conv3): Conv2d(64, 128, kernel_size=(3, 3), stride=(1, 1))\n",
            "  (pool3): MaxPool2d(kernel_size=2, stride=2, padding=0, dilation=1, ceil_mode=False)\n",
            "  (l1): Linear(in_features=2048, out_features=16, bias=True)\n",
            "  (l2): Linear(in_features=16, out_features=8, bias=True)\n",
            "  (l3): Linear(in_features=8, out_features=1, bias=True)\n",
            ")\n"
          ],
          "name": "stdout"
        }
      ]
    },
    {
      "cell_type": "code",
      "metadata": {
        "id": "t3CQGNBvo5k3",
        "colab": {
          "base_uri": "https://localhost:8080/"
        },
        "outputId": "7a22652c-e2a2-4c4b-d900-e1540c146930"
      },
      "source": [
        "training_losses = []\n",
        "validation_losses = []\n",
        "\n",
        "for epoch in range(1, number_of_epochs + 1):\n",
        "\n",
        "    training_loss = 0\n",
        "    validation_loss = 0\n",
        "\n",
        "    for features, labels in train_loader:\n",
        "        output = model(features.to(device)).to(device)\n",
        "        loss = criterion(output, labels.to(device)).to(device)\n",
        "        optimizer.zero_grad()\n",
        "        loss.backward()\n",
        "        optimizer.step()\n",
        "        training_loss += loss.item()\n",
        "    \n",
        "    with torch.no_grad():\n",
        "        for features, labels in validation_loader:\n",
        "            output = model(features.to(device)).to(device)\n",
        "            loss = criterion(output, labels.to(device))\n",
        "            validation_loss += loss.item()\n",
        "\n",
        "    training_losses.append(training_loss)\n",
        "    validation_losses.append(validation_loss)\n",
        "    print(f\"Epoch: {epoch}/{number_of_epochs}, training loss: {training_loss:.4f}, validation loss: {validation_loss:.4f}\")"
      ],
      "execution_count": 9,
      "outputs": [
        {
          "output_type": "stream",
          "text": [
            "Epoch: 1/50, training loss: 14.0139, validation loss: 3.4581\n",
            "Epoch: 2/50, training loss: 13.8240, validation loss: 3.4373\n",
            "Epoch: 3/50, training loss: 13.6508, validation loss: 3.3546\n",
            "Epoch: 4/50, training loss: 13.4632, validation loss: 3.2581\n",
            "Epoch: 5/50, training loss: 13.1089, validation loss: 3.2118\n",
            "Epoch: 6/50, training loss: 12.8235, validation loss: 3.1504\n",
            "Epoch: 7/50, training loss: 12.5332, validation loss: 3.0581\n",
            "Epoch: 8/50, training loss: 12.1370, validation loss: 2.9993\n",
            "Epoch: 9/50, training loss: 11.7379, validation loss: 2.8658\n",
            "Epoch: 10/50, training loss: 11.3849, validation loss: 2.7759\n",
            "Epoch: 11/50, training loss: 10.8908, validation loss: 2.6673\n",
            "Epoch: 12/50, training loss: 10.6357, validation loss: 2.6077\n",
            "Epoch: 13/50, training loss: 10.3794, validation loss: 2.5930\n",
            "Epoch: 14/50, training loss: 10.2082, validation loss: 2.5345\n",
            "Epoch: 15/50, training loss: 9.9665, validation loss: 2.5138\n",
            "Epoch: 16/50, training loss: 9.7198, validation loss: 2.5270\n",
            "Epoch: 17/50, training loss: 9.6437, validation loss: 2.4286\n",
            "Epoch: 18/50, training loss: 9.4080, validation loss: 2.4975\n",
            "Epoch: 19/50, training loss: 9.4063, validation loss: 2.4339\n",
            "Epoch: 20/50, training loss: 9.0952, validation loss: 2.3687\n",
            "Epoch: 21/50, training loss: 8.8535, validation loss: 2.3378\n",
            "Epoch: 22/50, training loss: 8.7745, validation loss: 2.4797\n",
            "Epoch: 23/50, training loss: 8.7335, validation loss: 2.3048\n",
            "Epoch: 24/50, training loss: 8.4264, validation loss: 2.3001\n",
            "Epoch: 25/50, training loss: 8.4180, validation loss: 2.3053\n",
            "Epoch: 26/50, training loss: 8.2463, validation loss: 2.3335\n",
            "Epoch: 27/50, training loss: 7.9772, validation loss: 2.2312\n",
            "Epoch: 28/50, training loss: 7.8350, validation loss: 2.2601\n",
            "Epoch: 29/50, training loss: 7.8674, validation loss: 2.2277\n",
            "Epoch: 30/50, training loss: 7.5250, validation loss: 2.2647\n",
            "Epoch: 31/50, training loss: 7.3216, validation loss: 2.2410\n",
            "Epoch: 32/50, training loss: 7.3195, validation loss: 2.2328\n",
            "Epoch: 33/50, training loss: 7.1262, validation loss: 2.3294\n",
            "Epoch: 34/50, training loss: 6.9728, validation loss: 2.2287\n",
            "Epoch: 35/50, training loss: 6.9100, validation loss: 2.3019\n",
            "Epoch: 36/50, training loss: 6.9978, validation loss: 2.4201\n",
            "Epoch: 37/50, training loss: 7.1291, validation loss: 2.4289\n",
            "Epoch: 38/50, training loss: 6.7365, validation loss: 2.2396\n",
            "Epoch: 39/50, training loss: 6.3507, validation loss: 2.3849\n",
            "Epoch: 40/50, training loss: 6.1935, validation loss: 2.2897\n",
            "Epoch: 41/50, training loss: 6.0678, validation loss: 2.2992\n",
            "Epoch: 42/50, training loss: 5.9968, validation loss: 2.3165\n",
            "Epoch: 43/50, training loss: 5.8795, validation loss: 2.3416\n",
            "Epoch: 44/50, training loss: 5.5599, validation loss: 2.4292\n",
            "Epoch: 45/50, training loss: 5.8469, validation loss: 2.4061\n",
            "Epoch: 46/50, training loss: 5.3261, validation loss: 2.4344\n",
            "Epoch: 47/50, training loss: 5.3804, validation loss: 2.5724\n",
            "Epoch: 48/50, training loss: 5.3300, validation loss: 2.4814\n",
            "Epoch: 49/50, training loss: 5.0745, validation loss: 2.6098\n",
            "Epoch: 50/50, training loss: 4.8865, validation loss: 2.6063\n"
          ],
          "name": "stdout"
        }
      ]
    },
    {
      "cell_type": "code",
      "metadata": {
        "id": "EsspvRK5a6aS",
        "colab": {
          "base_uri": "https://localhost:8080/",
          "height": 282
        },
        "outputId": "a51a857c-6364-40ca-ca1d-5d29d398bad9"
      },
      "source": [
        "# Graph of loss is plotted to ensure that there is no overfitting\n",
        "import matplotlib.pyplot as plt\n",
        "plt.plot([epoch for epoch in range(1, number_of_epochs + 1)], training_losses)\n",
        "plt.plot([epoch for epoch in range(1, number_of_epochs + 1)], validation_losses)"
      ],
      "execution_count": 10,
      "outputs": [
        {
          "output_type": "execute_result",
          "data": {
            "text/plain": [
              "[<matplotlib.lines.Line2D at 0x7f2ed8e97050>]"
            ]
          },
          "metadata": {
            "tags": []
          },
          "execution_count": 10
        },
        {
          "output_type": "display_data",
          "data": {
            "image/png": "[encoded data removed]",
            "text/plain": [
              "<Figure size 432x288 with 1 Axes>"
            ]
          },
          "metadata": {
            "tags": [],
            "needs_background": "light"
          }
        }
      ]
    },
    {
      "cell_type": "code",
      "metadata": {
        "id": "fogtRdu-HaCu",
        "colab": {
          "base_uri": "https://localhost:8080/"
        },
        "outputId": "bf5aa22c-f59e-494e-d89c-f11cecdfb6ef"
      },
      "source": [
        "# Accuracy of the model is calculated\n",
        "model = model.eval()\n",
        "\n",
        "with torch.no_grad():\n",
        "\n",
        "    train_counter = 0\n",
        "\n",
        "    for features, labels in train_loader:\n",
        "\n",
        "        result = model(features.to(device))\n",
        "\n",
        "        for result_one, label_one in zip(result, labels):\n",
        "\n",
        "            if result_one[0] > 0.5 and int(label_one[0]) == 1:\n",
        "                train_counter += 1\n",
        "\n",
        "            if result_one[0] < 0.5 and int(label_one[0]) == 0:\n",
        "                train_counter += 1\n",
        "        \n",
        "    print(f\"Training accuracy: {train_counter / 20000:.2%}\")\n",
        "    \n",
        "with torch.no_grad():\n",
        "\n",
        "    validation_counter = 0\n",
        "\n",
        "    for features, labels in validation_loader:\n",
        "\n",
        "        result = model(features.to(device))\n",
        "\n",
        "        for result_one, label_one in zip(result, labels):\n",
        "\n",
        "            if result_one[0] > 0.5 and int(label_one[0]) == 1:\n",
        "                validation_counter += 1\n",
        "\n",
        "            if result_one[0] < 0.5 and int(label_one[0]) == 0:\n",
        "                validation_counter += 1\n",
        "        \n",
        "    print(f\"Validation accuracy: {validation_counter / 5000:.2%}\")"
      ],
      "execution_count": 11,
      "outputs": [
        {
          "output_type": "stream",
          "text": [
            "Training accuracy: 90.20%\n",
            "Validation accuracy: 79.98%\n"
          ],
          "name": "stdout"
        }
      ]
    }
  ]
}